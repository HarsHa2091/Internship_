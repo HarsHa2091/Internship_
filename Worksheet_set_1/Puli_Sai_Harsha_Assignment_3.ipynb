{
 "cells": [
  {
   "cell_type": "code",
   "execution_count": 2,
   "id": "62b9168e",
   "metadata": {},
   "outputs": [],
   "source": [
    "# 11 Solution"
   ]
  },
  {
   "cell_type": "code",
   "execution_count": 1,
   "id": "b85a17b2",
   "metadata": {},
   "outputs": [
    {
     "name": "stdout",
     "output_type": "stream",
     "text": [
      "120\n"
     ]
    }
   ],
   "source": [
    "def fact_num(n):\n",
    "    if n==0:\n",
    "        return 1\n",
    "    else:\n",
    "        return n*fact_num(n-1)\n",
    "    \n",
    "print(fact_num(5))"
   ]
  },
  {
   "cell_type": "code",
   "execution_count": null,
   "id": "bfe66ebe",
   "metadata": {},
   "outputs": [],
   "source": []
  },
  {
   "cell_type": "code",
   "execution_count": 3,
   "id": "d47315ad",
   "metadata": {},
   "outputs": [],
   "source": [
    "#12 Solution"
   ]
  },
  {
   "cell_type": "code",
   "execution_count": 11,
   "id": "56da21e7",
   "metadata": {},
   "outputs": [
    {
     "name": "stdout",
     "output_type": "stream",
     "text": [
      "Enter the Number11\n",
      "11 is a Prime number\n"
     ]
    }
   ],
   "source": [
    "num1=int(input(\"Enter the Number\"))\n",
    "\n",
    "if num1>1:\n",
    "    for i in range(2,int(num1/2)+1):\n",
    "        if (num1 % i) ==0:\n",
    "            print(num1,\"is a composite number\")\n",
    "            break\n",
    "    else:\n",
    "            print(num1,\"is a Prime number\" )\n",
    "else:\n",
    "    print(num1, \"is not a Prime or Composite number\")"
   ]
  },
  {
   "cell_type": "code",
   "execution_count": null,
   "id": "3db6687c",
   "metadata": {},
   "outputs": [],
   "source": []
  },
  {
   "cell_type": "code",
   "execution_count": 12,
   "id": "695a78fc",
   "metadata": {},
   "outputs": [],
   "source": [
    "# 13 Soution"
   ]
  },
  {
   "cell_type": "code",
   "execution_count": 15,
   "id": "6c3b9f2f",
   "metadata": {},
   "outputs": [
    {
     "name": "stdout",
     "output_type": "stream",
     "text": [
      "Enter the keywordsis\n",
      "sis is palindrome \n"
     ]
    }
   ],
   "source": [
    "def is_pali(n):\n",
    "    return n==n[::-1]\n",
    "\n",
    "word=str(input(\"Enter the keyword\"))\n",
    "if is_pali(word):\n",
    "    print(word, \"is palindrome \")\n",
    "else:\n",
    "    print(word, \"not a palindrome\")"
   ]
  },
  {
   "cell_type": "code",
   "execution_count": null,
   "id": "45beedec",
   "metadata": {},
   "outputs": [],
   "source": []
  },
  {
   "cell_type": "code",
   "execution_count": 20,
   "id": "d15ff7e2",
   "metadata": {},
   "outputs": [],
   "source": [
    "#14 Solution"
   ]
  },
  {
   "cell_type": "code",
   "execution_count": 21,
   "id": "b997c316",
   "metadata": {},
   "outputs": [
    {
     "name": "stdout",
     "output_type": "stream",
     "text": [
      "Enter Base:10.5\n",
      "Enter height:6.5\n",
      "The length of the third side is: 12.349089035228468\n"
     ]
    }
   ],
   "source": [
    "def opp_side(base, height):\n",
    "    third_side = (base**2 + height**2)**0.5\n",
    "    return third_side\n",
    "\n",
    "base = float(input(\"Enter Base:\"))\n",
    "height = float(input(\"Enter height:\"))\n",
    "\n",
    "output1 = opp_side(base, height)\n",
    "print(f\"The length of the third side is: {output1}\")"
   ]
  },
  {
   "cell_type": "code",
   "execution_count": null,
   "id": "4581f071",
   "metadata": {},
   "outputs": [],
   "source": []
  },
  {
   "cell_type": "code",
   "execution_count": null,
   "id": "9a957c14",
   "metadata": {},
   "outputs": [],
   "source": []
  },
  {
   "cell_type": "code",
   "execution_count": null,
   "id": "20c47578",
   "metadata": {},
   "outputs": [],
   "source": []
  },
  {
   "cell_type": "code",
   "execution_count": null,
   "id": "e4645b7a",
   "metadata": {},
   "outputs": [],
   "source": []
  }
 ],
 "metadata": {
  "kernelspec": {
   "display_name": "Python 3 (ipykernel)",
   "language": "python",
   "name": "python3"
  },
  "language_info": {
   "codemirror_mode": {
    "name": "ipython",
    "version": 3
   },
   "file_extension": ".py",
   "mimetype": "text/x-python",
   "name": "python",
   "nbconvert_exporter": "python",
   "pygments_lexer": "ipython3",
   "version": "3.11.4"
  }
 },
 "nbformat": 4,
 "nbformat_minor": 5
}
