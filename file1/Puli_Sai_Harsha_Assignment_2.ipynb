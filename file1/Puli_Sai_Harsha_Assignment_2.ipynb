{
 "cells": [
  {
   "cell_type": "code",
   "execution_count": 1,
   "id": "076f2e16",
   "metadata": {},
   "outputs": [],
   "source": [
    "# Question-1"
   ]
  },
  {
   "cell_type": "code",
   "execution_count": 5,
   "id": "41031876",
   "metadata": {},
   "outputs": [],
   "source": [
    "import regex as re\n",
    "text1='Python Exercises, PHP exercises.'"
   ]
  },
  {
   "cell_type": "code",
   "execution_count": 6,
   "id": "3223d376",
   "metadata": {},
   "outputs": [],
   "source": [
    "result_text1=re.sub(r\"[\\s+,.]\", r\":\", text1)"
   ]
  },
  {
   "cell_type": "code",
   "execution_count": 7,
   "id": "08f81e24",
   "metadata": {},
   "outputs": [
    {
     "name": "stdout",
     "output_type": "stream",
     "text": [
      "Python:Exercises::PHP:exercises:\n"
     ]
    }
   ],
   "source": [
    "print(result_text1)"
   ]
  },
  {
   "cell_type": "code",
   "execution_count": null,
   "id": "248a2f1d",
   "metadata": {},
   "outputs": [],
   "source": []
  },
  {
   "cell_type": "code",
   "execution_count": 8,
   "id": "94244c05",
   "metadata": {},
   "outputs": [],
   "source": [
    "#Question2"
   ]
  },
  {
   "cell_type": "code",
   "execution_count": 31,
   "id": "f686bc32",
   "metadata": {},
   "outputs": [
    {
     "name": "stdout",
     "output_type": "stream",
     "text": [
      "    result_text2\n",
      "0    hello world\n",
      "1           test\n",
      "2  four five six\n"
     ]
    },
    {
     "name": "stderr",
     "output_type": "stream",
     "text": [
      "C:\\Users\\S S\\AppData\\Local\\Temp\\ipykernel_13572\\1644394767.py:5: FutureWarning: The default value of regex will change from True to False in a future version.\n",
      "  df['result_text2'] = df['SUMMARY'].str.replace(r'[^a-zA-Z\\s]|XX*', '')\n"
     ]
    }
   ],
   "source": [
    "import pandas as pd\n",
    "import re\n",
    "text2={'SUMMARY' : ['hello, world!', 'XXXXX test', '123four, five:; six...']}\n",
    "df = pd.DataFrame(text2)\n",
    "df['result_text2'] = df['SUMMARY'].str.replace(r'[^a-zA-Z\\s]|XX*', '')\n",
    "print(df[['result_text2']])"
   ]
  },
  {
   "cell_type": "code",
   "execution_count": null,
   "id": "e73758d3",
   "metadata": {},
   "outputs": [],
   "source": []
  },
  {
   "cell_type": "code",
   "execution_count": 32,
   "id": "43cc6bba",
   "metadata": {},
   "outputs": [],
   "source": [
    "#Question 3"
   ]
  },
  {
   "cell_type": "code",
   "execution_count": 52,
   "id": "d32c9ac6",
   "metadata": {},
   "outputs": [
    {
     "name": "stdout",
     "output_type": "stream",
     "text": [
      "['city', 'Hyde', 'popu', 'know', 'City', 'Pear', 'majo', 'pear', 'trad', 'cent', 'Hyde', 'know', 'Hyde', 'biry', 'fusi', 'Mugh', 'Arab', 'cuis']\n"
     ]
    }
   ],
   "source": [
    "text3= \"\"\"The city of Hyderabad is popularly known as the \"City of Pearls\" as it was a major pearl trade center. Hyderabad is known for its Hyderabadi biryani and its fusion of Mughlai and Arab cuisine.\"\"\"\n",
    "\n",
    "dpattern =r\"\\b\\w{4}\"\n",
    "text3_pattern=re.compile(dpattern)\n",
    "\n",
    "result =text3_pattern.findall(text3)\n",
    "print(result)"
   ]
  },
  {
   "cell_type": "code",
   "execution_count": null,
   "id": "09b4b09b",
   "metadata": {},
   "outputs": [],
   "source": []
  },
  {
   "cell_type": "code",
   "execution_count": null,
   "id": "f2362a10",
   "metadata": {},
   "outputs": [],
   "source": [
    "# Question 4"
   ]
  },
  {
   "cell_type": "code",
   "execution_count": 54,
   "id": "3ccbd644",
   "metadata": {},
   "outputs": [
    {
     "name": "stdout",
     "output_type": "stream",
     "text": [
      "['city', 'Hyde', 'popu', 'know', 'City', 'Pear', 'majo', 'pear', 'trad', 'cent', 'Hyde', 'know', 'Hyde', 'biry', 'fusi', 'Mugh', 'Arab', 'cuis']\n"
     ]
    }
   ],
   "source": [
    "text4= \"\"\"The city of Hyderabad is popularly known as the \"City of Pearls\" as it was a major pearl trade center. Hyderabad is known for its Hyderabadi biryani and its fusion of Mughlai and Arab cuisine.\"\"\"\n",
    "\n",
    "ddpattern =r'\\b(\\w{3,5})\\b'\n",
    "text4_pattern=re.compile(ddpattern)\n",
    "\n",
    "result4 =text4_pattern.findall(text4)\n",
    "print(result)"
   ]
  },
  {
   "cell_type": "code",
   "execution_count": null,
   "id": "2edb1d09",
   "metadata": {},
   "outputs": [],
   "source": []
  },
  {
   "cell_type": "code",
   "execution_count": 55,
   "id": "a3894749",
   "metadata": {},
   "outputs": [],
   "source": [
    "# Question 5"
   ]
  },
  {
   "cell_type": "code",
   "execution_count": 74,
   "id": "692fb594",
   "metadata": {},
   "outputs": [
    {
     "name": "stdout",
     "output_type": "stream",
     "text": [
      "example.com\n",
      "hr@fliprobo.com\n",
      "github.com\n",
      "HelloDataScienceWorld\n",
      "DataScientist\n"
     ]
    }
   ],
   "source": [
    "import re\n",
    "text5=[\"example (.com)\", \"hr@fliprobo (.com)\", \"github (.com)\", \"Hello (Data Science World)\", \"Data (Scientist)\"]\n",
    "\n",
    "pattern5 =r\"[\\(\\s\\)]\"\n",
    "text_pattern5=re.compile(pattern5)\n",
    "\n",
    "for i in text5:\n",
    "    result5=text_pattern5.sub(\"\",i)\n",
    "    print(result5)"
   ]
  },
  {
   "cell_type": "code",
   "execution_count": null,
   "id": "ea4e16cb",
   "metadata": {},
   "outputs": [],
   "source": []
  },
  {
   "cell_type": "code",
   "execution_count": null,
   "id": "991c5b4f",
   "metadata": {},
   "outputs": [],
   "source": [
    "#Question 6"
   ]
  },
  {
   "cell_type": "code",
   "execution_count": 75,
   "id": "d6b44179",
   "metadata": {},
   "outputs": [
    {
     "name": "stdout",
     "output_type": "stream",
     "text": [
      "example \n",
      "hr@fliprobo \n",
      "github \n",
      "Hello \n",
      "Data \n"
     ]
    }
   ],
   "source": [
    "import re\n",
    "\n",
    "text5 = [\"example (.com)\", \"hr@fliprobo (.com)\", \"github (.com)\", \"Hello (Data Science World)\", \"Data (Scientist)\"]\n",
    "\n",
    "pattern5 = r\"\\([^)]*\\)\"\n",
    "text_pattern5 = re.compile(pattern5)\n",
    "\n",
    "for i in text5:\n",
    "    result5 = text_pattern5.sub(\"\", i)\n",
    "    print(result5)"
   ]
  },
  {
   "cell_type": "code",
   "execution_count": null,
   "id": "f5c417e0",
   "metadata": {},
   "outputs": [],
   "source": []
  },
  {
   "cell_type": "code",
   "execution_count": null,
   "id": "9cab3794",
   "metadata": {},
   "outputs": [],
   "source": [
    "#Question 7"
   ]
  },
  {
   "cell_type": "code",
   "execution_count": 85,
   "id": "33d9f4fe",
   "metadata": {},
   "outputs": [
    {
     "name": "stdout",
     "output_type": "stream",
     "text": [
      "['', 'Importance', '', 'Of', '', 'Regular', '', 'Expressions', '', 'In', '', 'Python', '']\n"
     ]
    }
   ],
   "source": [
    "import re\n",
    "text7= \"ImportanceOfRegularExpressionsInPython\"\n",
    "\n",
    "result7=re.split(r'([A-Z][a-z]*)',text7)\n",
    "print(result7)"
   ]
  },
  {
   "cell_type": "code",
   "execution_count": null,
   "id": "55b63eee",
   "metadata": {},
   "outputs": [],
   "source": []
  },
  {
   "cell_type": "code",
   "execution_count": 86,
   "id": "953c198f",
   "metadata": {},
   "outputs": [],
   "source": [
    "#Question 8"
   ]
  },
  {
   "cell_type": "code",
   "execution_count": 104,
   "id": "298f8f93",
   "metadata": {},
   "outputs": [
    {
     "name": "stdout",
     "output_type": "stream",
     "text": [
      "RegularExpression 1IsAn 2ImportantTopic 3InPython\n"
     ]
    }
   ],
   "source": [
    "import re\n",
    "\n",
    "text8=\"RegularExpression1IsAn2ImportantTopic3InPython\"\n",
    "\n",
    "result8=re.sub(r'(\\d)', r' \\1',text8)\n",
    "print(result8)"
   ]
  },
  {
   "cell_type": "code",
   "execution_count": null,
   "id": "53b9927a",
   "metadata": {},
   "outputs": [],
   "source": []
  },
  {
   "cell_type": "code",
   "execution_count": 98,
   "id": "00d714a1",
   "metadata": {},
   "outputs": [],
   "source": [
    "#Question 9"
   ]
  },
  {
   "cell_type": "code",
   "execution_count": 101,
   "id": "ac801fcc",
   "metadata": {},
   "outputs": [
    {
     "name": "stdout",
     "output_type": "stream",
     "text": [
      "RegularExpression 1 IsAn 2 ImportantTopic 3 InPython\n"
     ]
    }
   ],
   "source": [
    "import re\n",
    "\n",
    "text8=\"RegularExpression1IsAn2ImportantTopic3InPython\"\n",
    "\n",
    "result8=re.sub(r'(\\d)', r' \\1 ',text8)\n",
    "print(result8)"
   ]
  },
  {
   "cell_type": "code",
   "execution_count": null,
   "id": "e23db391",
   "metadata": {},
   "outputs": [],
   "source": []
  },
  {
   "cell_type": "code",
   "execution_count": null,
   "id": "76607683",
   "metadata": {},
   "outputs": [],
   "source": [
    "#Question 10"
   ]
  },
  {
   "cell_type": "code",
   "execution_count": 112,
   "id": "4fe46358",
   "metadata": {},
   "outputs": [
    {
     "name": "stdout",
     "output_type": "stream",
     "text": [
      "    first_five_letters\n",
      "0               Switze\n",
      "1               Icelan\n",
      "2               Denmar\n",
      "3               Norway\n",
      "4               Canada\n",
      "..                 ...\n",
      "153             Rwanda\n",
      "154              Benin\n",
      "155              Syria\n",
      "156             Burund\n",
      "157               Togo\n",
      "\n",
      "[158 rows x 1 columns]\n"
     ]
    }
   ],
   "source": [
    "import pandas as pd\n",
    "\n",
    "link1=\"https://raw.githubusercontent.com/dsrscientist/DSData/master/happiness_score_dataset.csv\"\n",
    "\n",
    "df=pd.read_csv(link1)\n",
    "\n",
    "df['first_five_letters']=df['Country'].str[:6]\n",
    "print(df[['first_five_letters']])"
   ]
  },
  {
   "cell_type": "code",
   "execution_count": null,
   "id": "40e968c4",
   "metadata": {},
   "outputs": [],
   "source": []
  },
  {
   "cell_type": "code",
   "execution_count": null,
   "id": "bd6ad649",
   "metadata": {},
   "outputs": [],
   "source": [
    "#Question 11"
   ]
  },
  {
   "cell_type": "code",
   "execution_count": 121,
   "id": "9ade06df",
   "metadata": {},
   "outputs": [
    {
     "name": "stdout",
     "output_type": "stream",
     "text": [
      "<re.Match object; span=(0, 11), match='Harsha_2091'>\n",
      "<re.Match object; span=(0, 6), match='123456'>\n",
      "<re.Match object; span=(0, 13), match='Pulisaiharsha'>\n"
     ]
    }
   ],
   "source": [
    "import re\n",
    "text11=[\"Harsha_2091\",\"123456\",\"Pulisaiharsha\"]\n",
    "\n",
    "for i in text11:\n",
    "    result11=re.match(r\"[a-zA-Z0-9_]+\",i)\n",
    "    print(result11)"
   ]
  },
  {
   "cell_type": "code",
   "execution_count": null,
   "id": "9596457b",
   "metadata": {},
   "outputs": [],
   "source": []
  },
  {
   "cell_type": "code",
   "execution_count": 123,
   "id": "9e845174",
   "metadata": {},
   "outputs": [],
   "source": [
    "#Question 12"
   ]
  },
  {
   "cell_type": "code",
   "execution_count": 131,
   "id": "1b17ed35",
   "metadata": {},
   "outputs": [
    {
     "name": "stdout",
     "output_type": "stream",
     "text": [
      "False\n",
      "True\n"
     ]
    }
   ],
   "source": [
    "import re\n",
    "\n",
    "def match_n(string, number):\n",
    "    text12 = re.compile(f\"^{number}\")\n",
    "    return bool(text12.match(string))\n",
    "\n",
    "print(match_n('2', 3))\n",
    "print(match_n('4', 4))"
   ]
  },
  {
   "cell_type": "code",
   "execution_count": null,
   "id": "c9f92c8e",
   "metadata": {},
   "outputs": [],
   "source": []
  },
  {
   "cell_type": "code",
   "execution_count": 132,
   "id": "af6d2d0f",
   "metadata": {},
   "outputs": [],
   "source": [
    "#Question 13"
   ]
  },
  {
   "cell_type": "code",
   "execution_count": 133,
   "id": "412e9adc",
   "metadata": {},
   "outputs": [
    {
     "name": "stdout",
     "output_type": "stream",
     "text": [
      "192.18..124\n"
     ]
    }
   ],
   "source": [
    "import re\n",
    "my_ip=\"192.108.0.124\"\n",
    "result13=re.sub(r\"[0]\",\"\",my_ip)\n",
    "print(result13)"
   ]
  },
  {
   "cell_type": "code",
   "execution_count": null,
   "id": "17ad7102",
   "metadata": {},
   "outputs": [],
   "source": []
  },
  {
   "cell_type": "code",
   "execution_count": null,
   "id": "d5f50c27",
   "metadata": {},
   "outputs": [],
   "source": [
    "#question 14"
   ]
  },
  {
   "cell_type": "code",
   "execution_count": 138,
   "id": "5157e48e",
   "metadata": {},
   "outputs": [],
   "source": [
    "import pandas as pd\n",
    "df=pd.read_table(\"C:\\\\Users\\\\S S\\\\OneDrive\\\\Desktop\\\\sample_text.txt\")\n"
   ]
  },
  {
   "cell_type": "code",
   "execution_count": 150,
   "id": "65dfc5c7",
   "metadata": {},
   "outputs": [
    {
     "name": "stdout",
     "output_type": "stream",
     "text": [
      "['August 15th 1947']\n"
     ]
    }
   ],
   "source": [
    "import re\n",
    "\n",
    "def extract_date_from_text(file_path):\n",
    "    with open(file_path, 'r') as file:\n",
    "        text = file.read()\n",
    "\n",
    "    date_pattern = r'\\b([A-Z][a-z]+ \\d{1,2}(?:st|nd|rd|th)? \\d{4})\\b'\n",
    "\n",
    "    result14 = re.findall(date_pattern, text)\n",
    "\n",
    "    return result14\n",
    "\n",
    "file_path = \"C:\\\\Users\\\\S S\\\\OneDrive\\\\Desktop\\\\sample_text.txt\"\n",
    "result14 = extract_date_from_text(file_path)\n",
    "print(result14)"
   ]
  },
  {
   "cell_type": "code",
   "execution_count": null,
   "id": "2104f6c2",
   "metadata": {},
   "outputs": [],
   "source": []
  },
  {
   "cell_type": "code",
   "execution_count": null,
   "id": "df1a4b9e",
   "metadata": {},
   "outputs": [],
   "source": [
    "#Question 15"
   ]
  },
  {
   "cell_type": "code",
   "execution_count": 69,
   "id": "b60ab414",
   "metadata": {},
   "outputs": [
    {
     "name": "stdout",
     "output_type": "stream",
     "text": [
      "Searching for \"fox\" in \"The quick brown fox jumps over the lazy dog.\" ->\n",
      "Matched!\n",
      "Searching for \"dog\" in \"The quick brown fox jumps over the lazy dog.\" ->\n",
      "Matched!\n",
      "Searching for \"horse\" in \"The quick brown fox jumps over the lazy dog.\" ->\n",
      "Not Matched!\n"
     ]
    }
   ],
   "source": [
    "import re\n",
    "\n",
    "patterns = ['fox', 'dog', 'horse']\n",
    "text15 = 'The quick brown fox jumps over the lazy dog.'\n",
    "\n",
    "for pattern in patterns:\n",
    "    print('Searching for \"%s\" in \"%s\" ->' % (pattern, text15))\n",
    "    if re.search(pattern, text15):\n",
    "        print('Matched!')\n",
    "    else:\n",
    "        print('Not Matched!')"
   ]
  },
  {
   "cell_type": "code",
   "execution_count": null,
   "id": "30c7de5b",
   "metadata": {},
   "outputs": [],
   "source": []
  },
  {
   "cell_type": "code",
   "execution_count": 154,
   "id": "c644d168",
   "metadata": {},
   "outputs": [],
   "source": [
    "#Question 16"
   ]
  },
  {
   "cell_type": "code",
   "execution_count": 157,
   "id": "7125fabb",
   "metadata": {},
   "outputs": [
    {
     "name": "stdout",
     "output_type": "stream",
     "text": [
      "Found \"fox\" in \"The quick brown fox jumps over the lazy dog.\" at position 16-19.\n"
     ]
    }
   ],
   "source": [
    "import re\n",
    "\n",
    "pattern = 'fox'\n",
    "text16 = 'The quick brown fox jumps over the lazy dog.'\n",
    "match = re.search(pattern, text16)\n",
    "f = match.start()\n",
    "l = match.end()\n",
    "\n",
    "print('Found \"%s\" in \"%s\" at position %d-%d.' % (pattern, text16, f, l))"
   ]
  },
  {
   "cell_type": "code",
   "execution_count": null,
   "id": "4662ca0b",
   "metadata": {},
   "outputs": [],
   "source": []
  },
  {
   "cell_type": "code",
   "execution_count": 159,
   "id": "7b33692b",
   "metadata": {},
   "outputs": [],
   "source": [
    "#Question 17"
   ]
  },
  {
   "cell_type": "code",
   "execution_count": 163,
   "id": "d2764325",
   "metadata": {},
   "outputs": [
    {
     "name": "stdout",
     "output_type": "stream",
     "text": [
      "Found \"exercises\"\n",
      "Found \"exercises\"\n",
      "Found \"exercises\"\n"
     ]
    }
   ],
   "source": [
    "import re\n",
    "text17='Python exercises, PHP exercises, C# exercises'\n",
    "pattern17='exercises'\n",
    "\n",
    "matches=re.findall(pattern17, text17)\n",
    "\n",
    "for match in matches:\n",
    "    print('Found \"%s\"'% match)"
   ]
  },
  {
   "cell_type": "code",
   "execution_count": null,
   "id": "219fa894",
   "metadata": {},
   "outputs": [],
   "source": []
  },
  {
   "cell_type": "code",
   "execution_count": null,
   "id": "a9592d7b",
   "metadata": {},
   "outputs": [],
   "source": [
    "# Question 18"
   ]
  },
  {
   "cell_type": "code",
   "execution_count": 166,
   "id": "d4c95620",
   "metadata": {},
   "outputs": [
    {
     "name": "stdout",
     "output_type": "stream",
     "text": [
      "Found \"exercises\" in \"Python exercises, PHP exercises, C# exercises\" at position 7:16.\n",
      "Found \"exercises\" in \"Python exercises, PHP exercises, C# exercises\" at position 22:31.\n",
      "Found \"exercises\" in \"Python exercises, PHP exercises, C# exercises\" at position 36:45.\n"
     ]
    }
   ],
   "source": [
    "import re\n",
    "\n",
    "text18='Python exercises, PHP exercises, C# exercises'\n",
    "pattern18='exercises'\n",
    "\n",
    "matches18=re.finditer(pattern18, text18)\n",
    "for match in matches18:\n",
    "    strt= match.start()\n",
    "    ed= match.end()\n",
    "    substrg= match.group()\n",
    "    \n",
    "\n",
    "    print(f'Found \"{substrg}\" in \"{text18}\" at position {strt}:{ed}.')"
   ]
  },
  {
   "cell_type": "code",
   "execution_count": null,
   "id": "08e68c5a",
   "metadata": {},
   "outputs": [],
   "source": []
  },
  {
   "cell_type": "code",
   "execution_count": 167,
   "id": "e645726c",
   "metadata": {},
   "outputs": [],
   "source": [
    "#Question 19"
   ]
  },
  {
   "cell_type": "code",
   "execution_count": 172,
   "id": "02b2ef92",
   "metadata": {},
   "outputs": [
    {
     "name": "stdout",
     "output_type": "stream",
     "text": [
      "Actual Date Format:\"1998-10-22\" changed to current date format \"22-10-1998\"\n"
     ]
    }
   ],
   "source": [
    "from datetime import datetime\n",
    "\n",
    "def change_date_format(dt):\n",
    "    current_format=datetime.strptime(dt, '%Y-%m-%d')\n",
    "    change_format=current_format.strftime('%d-%m-%Y')\n",
    "    return change_format\n",
    "dt='1998-10-22'\n",
    "result19=change_date_format(dt)\n",
    "\n",
    "print(f'Actual Date Format:\"{dt}\" changed to current date format \"{result19}\"')"
   ]
  },
  {
   "cell_type": "code",
   "execution_count": null,
   "id": "052fff8a",
   "metadata": {},
   "outputs": [],
   "source": []
  },
  {
   "cell_type": "code",
   "execution_count": 1,
   "id": "af07401a",
   "metadata": {},
   "outputs": [],
   "source": [
    "#Question 20"
   ]
  },
  {
   "cell_type": "code",
   "execution_count": 6,
   "id": "4550176e",
   "metadata": {},
   "outputs": [
    {
     "name": "stdout",
     "output_type": "stream",
     "text": [
      "['01.12', '145.8', '3.01', '27.25', '0.25']\n"
     ]
    }
   ],
   "source": [
    "import regex as re\n",
    "def decimal_number(text20):\n",
    "    pattern=re.compile(r\"\\b\\d+\\.\\d{1,2}\\b\")\n",
    "    result20=re.findall(pattern,text20)\n",
    "    return result20\n",
    "\n",
    "text20=\"01.12 0132.123 2.31875 145.8 3.01 27.25 0.25\"\n",
    "main_result=decimal_number(text20)\n",
    "print(main_result)"
   ]
  },
  {
   "cell_type": "code",
   "execution_count": null,
   "id": "622db8ba",
   "metadata": {},
   "outputs": [],
   "source": []
  },
  {
   "cell_type": "code",
   "execution_count": 7,
   "id": "4260ced2",
   "metadata": {},
   "outputs": [],
   "source": [
    "# Question 21"
   ]
  },
  {
   "cell_type": "code",
   "execution_count": 12,
   "id": "2520d848",
   "metadata": {},
   "outputs": [
    {
     "name": "stdout",
     "output_type": "stream",
     "text": [
      "Numbers are: 28 and Position is: 36-38\n",
      "Numbers are: 8 and Position is: 50-51\n"
     ]
    }
   ],
   "source": [
    "import re\n",
    "\n",
    "text21 = \"India is a federal union comprising 28 states and 8 union territories.\"\n",
    "pattern21 = re.compile(r\"\\b\\d+\\b\")\n",
    "result21 = re.finditer(pattern21, text21)\n",
    "\n",
    "for i in result21:\n",
    "    start_n = i.start()\n",
    "    end_n = i.end()\n",
    "    group_n = i.group()\n",
    "\n",
    "    print(f'Numbers are: {group_n} and Position is: {start_n}-{end_n}')"
   ]
  },
  {
   "cell_type": "code",
   "execution_count": null,
   "id": "6041d872",
   "metadata": {},
   "outputs": [],
   "source": []
  },
  {
   "cell_type": "code",
   "execution_count": null,
   "id": "3e0b090c",
   "metadata": {},
   "outputs": [],
   "source": [
    "#Question22"
   ]
  },
  {
   "cell_type": "code",
   "execution_count": 19,
   "id": "47268921",
   "metadata": {},
   "outputs": [
    {
     "name": "stdout",
     "output_type": "stream",
     "text": [
      "950\n"
     ]
    }
   ],
   "source": [
    "import re\n",
    "\n",
    "def largest_number(text22):\n",
    "    number22=re.findall(r\"\\d+\",text22)\n",
    "    \n",
    "    if number22:\n",
    "        Max_num=max(map(int,number22))\n",
    "        return Max_num\n",
    "    else:\n",
    "        return None\n",
    "    \n",
    "text22='My marks in each semester are: 947, 896, 926, 524, 734, 950, 642'\n",
    "\n",
    "result22=largest_number(text22)\n",
    "\n",
    "print(result22)\n"
   ]
  },
  {
   "cell_type": "code",
   "execution_count": null,
   "id": "0129b7e5",
   "metadata": {},
   "outputs": [],
   "source": []
  },
  {
   "cell_type": "code",
   "execution_count": 20,
   "id": "589d19c2",
   "metadata": {},
   "outputs": [],
   "source": [
    "#Question 23"
   ]
  },
  {
   "cell_type": "code",
   "execution_count": 30,
   "id": "a7c634c6",
   "metadata": {},
   "outputs": [
    {
     "name": "stdout",
     "output_type": "stream",
     "text": [
      " Regular Expression Is An Important Topic In Python\n"
     ]
    }
   ],
   "source": [
    "import re\n",
    "text23=\"RegularExpressionIsAnImportantTopicInPython\"\n",
    "pattern23=re.compile(r'([A-Z][a-z]+)')\n",
    "result23=re.sub(pattern23,r\" \\1\",text23)\n",
    "print(result23)"
   ]
  },
  {
   "cell_type": "code",
   "execution_count": null,
   "id": "522733d0",
   "metadata": {},
   "outputs": [],
   "source": []
  },
  {
   "cell_type": "code",
   "execution_count": 31,
   "id": "82c968d9",
   "metadata": {},
   "outputs": [],
   "source": [
    "#Question24"
   ]
  },
  {
   "cell_type": "code",
   "execution_count": 39,
   "id": "2f90b691",
   "metadata": {},
   "outputs": [
    {
     "name": "stdout",
     "output_type": "stream",
     "text": [
      "Seq Matched\n",
      "Seq Not Matched\n"
     ]
    }
   ],
   "source": [
    "import re\n",
    "def find_text(text24):\n",
    "    pattern= r\"([A-Z][a-z]+$)\"\n",
    "    find24=re.search(pattern,text24)\n",
    "    if find24:\n",
    "        return 'Seq Matched'\n",
    "    else:\n",
    "        return 'Seq Not Matched'\n",
    "print(find_text('Harsha'))\n",
    "print(find_text('harsha'))"
   ]
  },
  {
   "cell_type": "code",
   "execution_count": null,
   "id": "47cdbb13",
   "metadata": {},
   "outputs": [],
   "source": []
  },
  {
   "cell_type": "code",
   "execution_count": 40,
   "id": "e1f07e7f",
   "metadata": {},
   "outputs": [],
   "source": [
    "#Question 25"
   ]
  },
  {
   "cell_type": "code",
   "execution_count": 45,
   "id": "3498d59e",
   "metadata": {},
   "outputs": [
    {
     "name": "stdout",
     "output_type": "stream",
     "text": [
      "Hello hello world\n"
     ]
    }
   ],
   "source": [
    "import re\n",
    "def remove_dup(text25):\n",
    "    pattern25= r'\\b(\\w+)(\\s+\\1\\b)+'\n",
    "    result25= re.sub(pattern25,r'\\1',text25)\n",
    "    return result25\n",
    "\n",
    "text25=\"Hello hello world world\"\n",
    "output25=remove_dup(text25)\n",
    "print(output25)"
   ]
  },
  {
   "cell_type": "code",
   "execution_count": null,
   "id": "db861862",
   "metadata": {},
   "outputs": [],
   "source": []
  },
  {
   "cell_type": "code",
   "execution_count": 47,
   "id": "d6573a9a",
   "metadata": {},
   "outputs": [],
   "source": [
    "#Question 26"
   ]
  },
  {
   "cell_type": "code",
   "execution_count": 51,
   "id": "00b61b1e",
   "metadata": {},
   "outputs": [
    {
     "name": "stdout",
     "output_type": "stream",
     "text": [
      "End is alphanumeric\n",
      "End is not a alphanumeric\n"
     ]
    }
   ],
   "source": [
    "import re\n",
    "def check_str(text26):\n",
    "    pattern26=r'\\w$'\n",
    "    find26=re.search(pattern26,text26)\n",
    "    if find26:\n",
    "        return 'End is alphanumeric'\n",
    "    else:\n",
    "        return 'End is not a alphanumeric'\n",
    "print(check_str('Harsha123'))\n",
    "print(check_str(' '))\n"
   ]
  },
  {
   "cell_type": "code",
   "execution_count": null,
   "id": "86cd306d",
   "metadata": {},
   "outputs": [],
   "source": []
  },
  {
   "cell_type": "code",
   "execution_count": null,
   "id": "df3beb85",
   "metadata": {},
   "outputs": [],
   "source": [
    "#Question 27"
   ]
  },
  {
   "cell_type": "code",
   "execution_count": 55,
   "id": "d1d4e3f1",
   "metadata": {},
   "outputs": [
    {
     "name": "stdout",
     "output_type": "stream",
     "text": [
      "['#Doltiwal', '#xyzabc', '#Demonetization']\n"
     ]
    }
   ],
   "source": [
    "import re\n",
    "def ext_word(text27):\n",
    "    pattern27=re.compile(r'#\\w+')\n",
    "    result27=re.findall(pattern27,text27)\n",
    "    return result27\n",
    "\n",
    "text27= \"\"\"RT @kapil_kausik: #Doltiwal I mean #xyzabc is \"hurt\" by #Demonetization as the same has rendered USELESS <ed><U+00A0><U+00BD><ed><U+00B1><U+0089> \"acquired funds\" No wo\"\"\"\n",
    "output27=(ext_word(text27))\n",
    "\n",
    "print(output27)"
   ]
  },
  {
   "cell_type": "code",
   "execution_count": null,
   "id": "d904680b",
   "metadata": {},
   "outputs": [],
   "source": []
  },
  {
   "cell_type": "code",
   "execution_count": 56,
   "id": "178f34d2",
   "metadata": {},
   "outputs": [],
   "source": [
    "#Question 28"
   ]
  },
  {
   "cell_type": "code",
   "execution_count": 67,
   "id": "42d970cb",
   "metadata": {},
   "outputs": [
    {
     "name": "stdout",
     "output_type": "stream",
     "text": [
      "@Jags123456 Bharat band on 28??<ed><ed>Those who  are protesting #demonetization  are all different party leaders\n"
     ]
    }
   ],
   "source": [
    "import re\n",
    "def rem_word(text28):\n",
    "    pattern28= r'<U\\+\\w{4}>'\n",
    "    result28= re.sub(pattern28,'',text28)\n",
    "    return result28\n",
    "text28=\"@Jags123456 Bharat band on 28??<ed><U+00A0><U+00BD><ed><U+00B8><U+0082>Those who  are protesting #demonetization  are all different party leaders\"\n",
    "output28=rem_word(text28)\n",
    "\n",
    "print(output28)"
   ]
  },
  {
   "cell_type": "code",
   "execution_count": null,
   "id": "e1047010",
   "metadata": {},
   "outputs": [],
   "source": []
  },
  {
   "cell_type": "code",
   "execution_count": 68,
   "id": "510390c6",
   "metadata": {},
   "outputs": [],
   "source": [
    "#Question 29"
   ]
  },
  {
   "cell_type": "code",
   "execution_count": 74,
   "id": "a45a72fd",
   "metadata": {},
   "outputs": [
    {
     "name": "stdout",
     "output_type": "stream",
     "text": [
      "['12-09-1992', '15-12-1999']\n"
     ]
    }
   ],
   "source": [
    "import re\n",
    "def date_ext(text_path29):\n",
    "    with open (text_path29,'r') as file29:\n",
    "        text29=file29.read()\n",
    "    \n",
    "        pattern29=r'\\b\\d{2}-\\d{2}-\\d{4}'\n",
    "        result29= re.findall(pattern29,text29)\n",
    "    return result29\n",
    "\n",
    "text_path29=\"C:\\\\Users\\\\S S\\\\OneDrive\\\\Desktop\\\\date_file.txt\"\n",
    "output29=date_ext(text_path29)\n",
    "print(output29)"
   ]
  },
  {
   "cell_type": "code",
   "execution_count": null,
   "id": "3abc834b",
   "metadata": {},
   "outputs": [],
   "source": []
  },
  {
   "cell_type": "code",
   "execution_count": 76,
   "id": "b03fd415",
   "metadata": {},
   "outputs": [],
   "source": [
    "#Question 30"
   ]
  },
  {
   "cell_type": "code",
   "execution_count": 78,
   "id": "374b2de8",
   "metadata": {},
   "outputs": [
    {
     "name": "stdout",
     "output_type": "stream",
     "text": [
      " following example creates  ArrayList  a capacity   elements. 4 elements   added   ArrayList   ArrayList  trimmed accordingly.\n"
     ]
    }
   ],
   "source": [
    "import re\n",
    "\n",
    "def rem_text2(text30):\n",
    "    pattern30=re.compile(r'\\b\\w{2,4}\\b')\n",
    "    result30=re.sub(pattern30,'',text30)\n",
    "    return result30\n",
    "text30=\"The following example creates an ArrayList with a capacity of 50 elements. 4 elements are then added to the ArrayList and the ArrayList is trimmed accordingly.\"\n",
    "output30=rem_text2(text30)\n",
    "print(output30)"
   ]
  },
  {
   "cell_type": "code",
   "execution_count": null,
   "id": "a200725b",
   "metadata": {},
   "outputs": [],
   "source": []
  },
  {
   "cell_type": "code",
   "execution_count": 79,
   "id": "37f31cbc",
   "metadata": {},
   "outputs": [],
   "source": [
    "#End Of Assignment-2"
   ]
  },
  {
   "cell_type": "code",
   "execution_count": null,
   "id": "ad644dc8",
   "metadata": {},
   "outputs": [],
   "source": []
  },
  {
   "cell_type": "code",
   "execution_count": null,
   "id": "7326fe2e",
   "metadata": {},
   "outputs": [],
   "source": []
  },
  {
   "cell_type": "code",
   "execution_count": null,
   "id": "db6ba3c2",
   "metadata": {},
   "outputs": [],
   "source": []
  }
 ],
 "metadata": {
  "kernelspec": {
   "display_name": "Python 3 (ipykernel)",
   "language": "python",
   "name": "python3"
  },
  "language_info": {
   "codemirror_mode": {
    "name": "ipython",
    "version": 3
   },
   "file_extension": ".py",
   "mimetype": "text/x-python",
   "name": "python",
   "nbconvert_exporter": "python",
   "pygments_lexer": "ipython3",
   "version": "3.11.4"
  }
 },
 "nbformat": 4,
 "nbformat_minor": 5
}
